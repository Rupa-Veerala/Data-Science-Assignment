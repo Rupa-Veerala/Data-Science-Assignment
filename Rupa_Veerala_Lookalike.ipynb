{
 "cells": [
  {
   "cell_type": "markdown",
   "id": "63af64f3",
   "metadata": {},
   "source": [
    "# Task 2: Lookalike Model"
   ]
  },
  {
   "cell_type": "markdown",
   "id": "ebbb7bd7",
   "metadata": {},
   "source": [
    "Step 1: Load and Preprocess Data"
   ]
  },
  {
   "cell_type": "code",
   "execution_count": 8,
   "id": "222021fc",
   "metadata": {},
   "outputs": [],
   "source": [
    "import pandas as pd\n",
    "from sklearn.metrics.pairwise import cosine_similarity\n",
    "from sklearn.preprocessing import StandardScaler"
   ]
  },
  {
   "cell_type": "code",
   "execution_count": 9,
   "id": "e43daa69",
   "metadata": {},
   "outputs": [],
   "source": [
    "#Load datasets\n",
    "customers = pd.read_csv('Customers.csv')\n",
    "transactions = pd.read_csv('Transactions.csv')\n",
    "products = pd.read_csv('Products.csv')"
   ]
  },
  {
   "cell_type": "markdown",
   "id": "03938793",
   "metadata": {},
   "source": [
    "Step 2: Merge datasets"
   ]
  },
  {
   "cell_type": "code",
   "execution_count": 10,
   "id": "533b18ca",
   "metadata": {},
   "outputs": [],
   "source": [
    "merged_data = transactions.merge(products, on='ProductID', how='left')\n",
    "merged_data = merged_data.merge(customers, on='CustomerID', how='left')"
   ]
  },
  {
   "cell_type": "markdown",
   "id": "76c4ccef",
   "metadata": {},
   "source": [
    "Step 3: Feature Engineering"
   ]
  },
  {
   "cell_type": "code",
   "execution_count": 13,
   "id": "e839da0e",
   "metadata": {},
   "outputs": [],
   "source": [
    "# Aggregate features per customer\n",
    "customer_features = merged_data.groupby('CustomerID').agg({\n",
    "    'TotalValue': ['sum', 'mean'],  # Total and average spend\n",
    "    'Category': lambda x: x.value_counts().idxmax(),  # Most purchased category\n",
    "}).reset_index()\n",
    "\n",
    "# Flatten MultiIndex columns\n",
    "customer_features.columns = ['CustomerID', 'TotalSpend', 'AvgSpend', 'TopCategory']\n",
    "\n",
    "# Merge with customer profile\n",
    "customer_features = customer_features.merge(customers, on='CustomerID', how='left')"
   ]
  },
  {
   "cell_type": "markdown",
   "id": "8a359e6a",
   "metadata": {},
   "source": [
    "Step 4: Calculate Similarity"
   ]
  },
  {
   "cell_type": "code",
   "execution_count": 14,
   "id": "ac177375",
   "metadata": {},
   "outputs": [
    {
     "name": "stdout",
     "output_type": "stream",
     "text": [
      "Columns in customer_features: Index(['CustomerID', 'TotalSpend', 'AvgSpend', 'TopCategory', 'CustomerName',\n",
      "       'Region', 'SignupDate'],\n",
      "      dtype='object')\n",
      "'Region' and 'TopCategory' columns found.\n"
     ]
    }
   ],
   "source": [
    "print(\"Columns in customer_features:\", customer_features.columns)\n",
    "\n",
    "# Strip spaces from column names\n",
    "customer_features.columns = customer_features.columns.str.strip()\n",
    "\n",
    "# Ensure 'Region' and 'TopCategory' columns are available\n",
    "if 'Region' in customer_features.columns and 'TopCategory' in customer_features.columns:\n",
    "    print(\"'Region' and 'TopCategory' columns found.\")\n",
    "else:\n",
    "    print(\"One or both of 'Region' and 'TopCategory' columns are missing. Please check the dataset.\")"
   ]
  },
  {
   "cell_type": "markdown",
   "id": "416ba619",
   "metadata": {},
   "source": [
    "Step 5: Generate Recommendations"
   ]
  },
  {
   "cell_type": "code",
   "execution_count": 15,
   "id": "d76303dd",
   "metadata": {},
   "outputs": [],
   "source": [
    "#Encode categorical variables (e.g., Region, TopCategory)\n",
    "categorical_cols = ['Region', 'TopCategory']\n",
    "customer_features = pd.get_dummies(customer_features, columns=categorical_cols)"
   ]
  },
  {
   "cell_type": "markdown",
   "id": "d1869653",
   "metadata": {},
   "source": [
    "Step 6: Standardize numeric columns"
   ]
  },
  {
   "cell_type": "code",
   "execution_count": 16,
   "id": "eac8e012",
   "metadata": {},
   "outputs": [],
   "source": [
    "scaler = StandardScaler()\n",
    "numeric_cols = ['TotalSpend', 'AvgSpend']\n",
    "customer_features[numeric_cols] = scaler.fit_transform(customer_features[numeric_cols])"
   ]
  },
  {
   "cell_type": "markdown",
   "id": "786ce777",
   "metadata": {},
   "source": [
    "Step 7: Calculate Similarity"
   ]
  },
  {
   "cell_type": "code",
   "execution_count": 18,
   "id": "2f4ce1be",
   "metadata": {},
   "outputs": [
    {
     "name": "stdout",
     "output_type": "stream",
     "text": [
      "Data types in customer_features after encoding: CustomerID                  object\n",
      "TotalSpend                 float64\n",
      "AvgSpend                   float64\n",
      "CustomerName                object\n",
      "SignupDate                  object\n",
      "Region_Asia                  uint8\n",
      "Region_Europe                uint8\n",
      "Region_North America         uint8\n",
      "Region_South America         uint8\n",
      "TopCategory_Books            uint8\n",
      "TopCategory_Clothing         uint8\n",
      "TopCategory_Electronics      uint8\n",
      "TopCategory_Home Decor       uint8\n",
      "dtype: object\n"
     ]
    }
   ],
   "source": [
    "# Check the data types of the columns to confirm they are numeric\n",
    "print(\"Data types in customer_features after encoding:\", customer_features.dtypes)\n",
    "\n",
    "# Drop any non-numeric columns\n",
    "customer_matrix = customer_features.select_dtypes(include=['float64', 'int64'])\n"
   ]
  },
  {
   "cell_type": "markdown",
   "id": "b3b346a6",
   "metadata": {},
   "source": [
    "Step 8: Calculate Similarity"
   ]
  },
  {
   "cell_type": "code",
   "execution_count": 20,
   "id": "28117c57",
   "metadata": {},
   "outputs": [],
   "source": [
    "similarity_matrix = cosine_similarity(customer_matrix)"
   ]
  },
  {
   "cell_type": "markdown",
   "id": "afa05eff",
   "metadata": {},
   "source": [
    "Step 9: Generate Recommendations"
   ]
  },
  {
   "cell_type": "code",
   "execution_count": 21,
   "id": "385f5d09",
   "metadata": {},
   "outputs": [],
   "source": [
    "\n",
    "lookalike_map = {}\n",
    "for idx, customer_id in enumerate(customer_features['CustomerID']):\n",
    "    similarity_scores = list(enumerate(similarity_matrix[idx]))\n",
    "    similar_customers = sorted(similarity_scores, key=lambda x: x[1], reverse=True)[1:4]\n",
    "    lookalike_map[customer_id] = [\n",
    "        (customer_features['CustomerID'].iloc[i], round(score, 2)) for i, score in similar_customers\n",
    "    ]"
   ]
  },
  {
   "cell_type": "markdown",
   "id": "d4ee380f",
   "metadata": {},
   "source": [
    "Step 10: Save Lookalike Map to CSV"
   ]
  },
  {
   "cell_type": "code",
   "execution_count": 23,
   "id": "5f68fd84",
   "metadata": {},
   "outputs": [
    {
     "name": "stdout",
     "output_type": "stream",
     "text": [
      "{'C0001': [('C0010', 1.0), ('C0009', 1.0), ('C0029', 1.0)], 'C0002': [('C0151', 1.0), ('C0029', 1.0), ('C0043', 1.0)], 'C0003': [('C0005', 1.0), ('C0178', 1.0), ('C0144', 1.0)], 'C0004': [('C0067', 1.0), ('C0021', 1.0), ('C0075', 1.0)], 'C0005': [('C0003', 1.0), ('C0073', 1.0), ('C0178', 1.0)], 'C0006': [('C0079', 1.0), ('C0117', 1.0), ('C0196', 1.0)], 'C0007': [('C0085', 1.0), ('C0140', 1.0), ('C0092', 0.99)], 'C0008': [('C0194', 1.0), ('C0154', 1.0), ('C0179', 1.0)], 'C0009': [('C0025', 1.0), ('C0001', 1.0), ('C0010', 1.0)], 'C0010': [('C0001', 1.0), ('C0009', 1.0), ('C0029', 1.0)], 'C0011': [('C0183', 1.0), ('C0048', 1.0), ('C0016', 1.0)], 'C0012': [('C0136', 1.0), ('C0102', 1.0), ('C0155', 1.0)], 'C0013': [('C0126', 1.0), ('C0045', 1.0), ('C0143', 1.0)], 'C0014': [('C0192', 1.0), ('C0128', 1.0), ('C0031', 1.0)], 'C0015': [('C0035', 1.0), ('C0146', 1.0), ('C0132', 1.0)], 'C0016': [('C0048', 1.0), ('C0183', 1.0), ('C0064', 1.0)], 'C0017': [('C0162', 1.0), ('C0113', 1.0), ('C0093', 0.99)], 'C0018': [('C0200', 1.0), ('C0170', 1.0), ('C0182', 1.0)], 'C0019': [('C0172', 1.0), ('C0116', 1.0), ('C0119', 0.99)], 'C0020': [('C0110', 1.0), ('C0129', 1.0), ('C0042', 1.0)]}\n"
     ]
    }
   ],
   "source": [
    "lookalike_df = pd.DataFrame({\n",
    "    'CustomerID': lookalike_map.keys(),\n",
    "    'Lookalikes': [str(v) for v in lookalike_map.values()]\n",
    "})\n",
    "lookalike_df.to_csv('Lookalike.csv', index=False)\n",
    "\n",
    "# Display Lookalike Map for the first 20 customers\n",
    "lookalike_map_subset = {k: v for i, (k, v) in enumerate(lookalike_map.items()) if i < 20}\n",
    "print(lookalike_map_subset)"
   ]
  },
  {
   "cell_type": "markdown",
   "id": "004d3ef0",
   "metadata": {},
   "source": [
    "Evaluation Criteria:\n",
    "Model Accuracy and Logic: The accuracy of the similarity calculation is based on the chosen feature set (spending behavior, product categories, etc.) and the choice of similarity measure (Cosine Similarity or Euclidean Distance).\n",
    "\n",
    "Quality of Recommendations and Similarity Scores: You can assess the quality by checking if the similar customers have comparable purchasing behavior or demographic similarities. Fine-tune features like TotalSpend and AvgSpend to improve the results."
   ]
  },
  {
   "cell_type": "code",
   "execution_count": null,
   "id": "7736c1ab",
   "metadata": {},
   "outputs": [],
   "source": []
  }
 ],
 "metadata": {
  "kernelspec": {
   "display_name": "Python 3 (ipykernel)",
   "language": "python",
   "name": "python3"
  },
  "language_info": {
   "codemirror_mode": {
    "name": "ipython",
    "version": 3
   },
   "file_extension": ".py",
   "mimetype": "text/x-python",
   "name": "python",
   "nbconvert_exporter": "python",
   "pygments_lexer": "ipython3",
   "version": "3.11.3"
  }
 },
 "nbformat": 4,
 "nbformat_minor": 5
}
